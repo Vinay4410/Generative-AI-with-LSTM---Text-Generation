{
 "cells": [
  {
   "cell_type": "code",
   "execution_count": 3,
   "id": "fbab3412",
   "metadata": {},
   "outputs": [],
   "source": [
    "import numpy as np\n",
    "import pandas as pd\n",
    "import tensorflow as tf\n",
    "from tensorflow.keras.models import Sequential\n",
    "from tensorflow.keras.layers import LSTM, Dense, Embedding, Dropout\n",
    "from tensorflow.keras.optimizers import Adam\n",
    "from tensorflow.keras.callbacks import EarlyStopping, ModelCheckpoint\n",
    "import re\n",
    "import string\n",
    "import requests\n",
    "import matplotlib.pyplot as plt"
   ]
  },
  {
   "cell_type": "markdown",
   "id": "a1579512",
   "metadata": {},
   "source": [
    "### Step 1: Dataset Loading and Preprocessing"
   ]
  },
  {
   "cell_type": "code",
   "execution_count": 4,
   "id": "fc0e98f3",
   "metadata": {},
   "outputs": [],
   "source": [
    "url = \"https://www.gutenberg.org/files/100/100-0.txt\"\n",
    "response = requests.get(url)\n",
    "text = response.text"
   ]
  },
  {
   "cell_type": "code",
   "execution_count": 18,
   "id": "683fa514",
   "metadata": {},
   "outputs": [],
   "source": [
    "# print(text)"
   ]
  },
  {
   "cell_type": "markdown",
   "id": "e0720ac7",
   "metadata": {},
   "source": [
    "### Text Preprocessing"
   ]
  },
  {
   "cell_type": "code",
   "execution_count": 9,
   "id": "74fd3847",
   "metadata": {},
   "outputs": [],
   "source": [
    "def preprocess_text(text):\n",
    "    text = text.lower()  # lowercase\n",
    "    \n",
    "    text = re.sub(r'\\s+', ' ', text) # Remove extra space\n",
    "    \n",
    "    text = re.sub(r'[^a-zA-Z\\s.,!?;:\\-\\']', '', text)\n",
    "    \n",
    "    text = text.strip()\n",
    "    return text\n"
   ]
  },
  {
   "cell_type": "code",
   "execution_count": null,
   "id": "d7cf45d6",
   "metadata": {},
   "outputs": [],
   "source": [
    "# Preprocess the text\n",
    "clean_text = preprocess_text(text)"
   ]
  },
  {
   "cell_type": "code",
   "execution_count": 17,
   "id": "db76bc4f",
   "metadata": {},
   "outputs": [
    {
     "name": "stdout",
     "output_type": "stream",
     "text": [
      "start of the project gutenberg ebook   the complete works of william shakespeare by william shakespeare contents the sonnets alls well that ends well the tragedy of antony and cleopatra as you like it the comedy of errors the tragedy of coriolanus cymbeline the tragedy of hamlet, prince of denmark the first part of king henry the fourth the second part of king henry the fourth the life of king henry the fifth the first part of henry the sixth the second part of king henry the sixth the third part of king henry the sixth king henry the eighth the life and death of king john the tragedy of julius caesar the tragedy of king lear loves labours lost the tragedy of macbeth measure for measure the merchant of venice the merry wives of windsor a midsummer nights dream much ado about nothing the tragedy of othello, the moor of venice pericles, prince of tyre king richard the second king richard the third the tragedy of romeo and juliet the taming of the shrew the tempest the life of timon of athens the tragedy of titus andronicus troilus and cressida twelfth night; or, what you will the two gentlemen of verona the two noble kinsmen the winters tale a lovers complaint the passionate pilgrim the phoenix and the turtle the rape of lucrece venus and adonis the sonnets  from fairest creatures we desire increase, that thereby beautys rose might never die, but as the riper should by time decease, his tender heir might bear his memory: but thou contracted to thine own bright eyes, feedst thy lights flame with self-substantial fuel, making a famine where abundance lies, thyself thy foe, to thy sweet self too cruel: thou that art now the worlds fresh ornament, and only herald to the gaudy spring, within thine own bud buriest thy content, and, tender churl, makst waste in niggarding: pity the world, or else this glutton be, to eat the worlds due, by the grave and thee.  when forty winters shall besiege thy brow, and dig deep trenches in thy beautys field, thy youths proud livery so gaz\n"
     ]
    }
   ],
   "source": [
    "print(clean_text[:2000])"
   ]
  },
  {
   "cell_type": "markdown",
   "id": "6cc51234",
   "metadata": {},
   "source": [
    "### Create Character-Level Sequences"
   ]
  },
  {
   "cell_type": "code",
   "execution_count": 19,
   "id": "018a5cf8",
   "metadata": {},
   "outputs": [
    {
     "name": "stdout",
     "output_type": "stream",
     "text": [
      "35\n",
      "[' ', '!', \"'\", ',', '-', '.', ':', ';', '?', 'a', 'b', 'c', 'd', 'e', 'f', 'g', 'h', 'i', 'j', 'k', 'l', 'm', 'n', 'o', 'p', 'q', 'r', 's', 't', 'u', 'v', 'w', 'x', 'y', 'z']\n"
     ]
    }
   ],
   "source": [
    "# Create character-to-index and index-to-character mappings\n",
    "chars = sorted(list(set(clean_text)))\n",
    "char_to_idx = {char: idx for idx, char in enumerate(chars)}\n",
    "idx_to_char = {idx: char for idx, char in enumerate(chars)}\n",
    "\n",
    "vocab_size = len(chars)\n",
    "print(vocab_size)\n",
    "print(chars)"
   ]
  },
  {
   "cell_type": "markdown",
   "id": "b60c90e7",
   "metadata": {},
   "source": [
    "### Prepare Training Data"
   ]
  },
  {
   "cell_type": "code",
   "execution_count": 20,
   "id": "f02462e0",
   "metadata": {},
   "outputs": [
    {
     "name": "stdout",
     "output_type": "stream",
     "text": [
      "start of the project gutenberg ebook   t\n",
      "h\n"
     ]
    }
   ],
   "source": [
    "def create_sequences(text, seq_length=40):\n",
    "    sequences = []\n",
    "    targets = []\n",
    "    \n",
    "    for i in range(len(text) - seq_length):\n",
    "        seq = text[i:i + seq_length]\n",
    "        target = text[i + seq_length]\n",
    "        \n",
    "        sequences.append(seq)\n",
    "        targets.append(target)\n",
    "    \n",
    "    return sequences, targets\n",
    "\n",
    "# Create sequences\n",
    "SEQ_LENGTH = 40\n",
    "sequences, targets = create_sequences(clean_text, SEQ_LENGTH)\n",
    "\n",
    "print(sequences[0])\n",
    "print(targets[0])"
   ]
  },
  {
   "cell_type": "markdown",
   "id": "67a685ac",
   "metadata": {},
   "source": [
    "### Convert to Numerical Data"
   ]
  },
  {
   "cell_type": "code",
   "execution_count": 21,
   "id": "86300146",
   "metadata": {},
   "outputs": [
    {
     "name": "stdout",
     "output_type": "stream",
     "text": [
      "X shape: (5245711, 40)\n",
      "y shape: (5245711, 35)\n"
     ]
    }
   ],
   "source": [
    "X = np.zeros((len(sequences), SEQ_LENGTH), dtype=np.int32)\n",
    "y = np.zeros((len(sequences), vocab_size), dtype=np.int32)\n",
    "\n",
    "for i, (seq, target) in enumerate(zip(sequences, targets)):\n",
    "    for j, char in enumerate(seq):\n",
    "        X[i, j] = char_to_idx[char]\n",
    "    \n",
    "    y[i, char_to_idx[target]] = 1\n",
    "\n",
    "print(f\"X shape: {X.shape}\")\n",
    "print(f\"y shape: {y.shape}\")"
   ]
  },
  {
   "cell_type": "markdown",
   "id": "c752f899",
   "metadata": {},
   "source": [
    "### Train-Validation Split"
   ]
  },
  {
   "cell_type": "code",
   "execution_count": 25,
   "id": "2dcffa7f",
   "metadata": {},
   "outputs": [
    {
     "name": "stdout",
     "output_type": "stream",
     "text": [
      "4196568\n",
      "1049143\n"
     ]
    }
   ],
   "source": [
    "from sklearn.model_selection import train_test_split\n",
    "\n",
    "X_train, X_val, y_train, y_val = train_test_split(\n",
    "    X, y, test_size=0.2, random_state=42\n",
    ")\n",
    "\n",
    "print(X_train.shape[0])\n",
    "print(X_val.shape[0])"
   ]
  },
  {
   "cell_type": "markdown",
   "id": "df8ab1af",
   "metadata": {},
   "source": [
    "### Step 2: Model Design"
   ]
  },
  {
   "cell_type": "code",
   "execution_count": 26,
   "id": "c5543a60",
   "metadata": {},
   "outputs": [],
   "source": [
    "def build_lstm_model(vocab_size, seq_length, embedding_dim=50, lstm_units=128):\n",
    "    model = Sequential([\n",
    "        Embedding(vocab_size, embedding_dim, input_length=seq_length),\n",
    "        LSTM(lstm_units, return_sequences=True, dropout=0.2, recurrent_dropout=0.2), # First Layer\n",
    "        LSTM(lstm_units, dropout=0.2, recurrent_dropout=0.2), # Second Layer\n",
    "        Dense(vocab_size // 2, activation='relu'), # Dense layer\n",
    "        Dropout(0.5),\n",
    "        Dense(vocab_size, activation='softmax') # Output layer\n",
    "    ])\n",
    "    \n",
    "    return model"
   ]
  },
  {
   "cell_type": "code",
   "execution_count": 27,
   "id": "8e168a0c",
   "metadata": {},
   "outputs": [
    {
     "name": "stderr",
     "output_type": "stream",
     "text": [
      "c:\\Users\\VINAY PATEL\\anaconda3\\envs\\env\\Lib\\site-packages\\keras\\src\\layers\\core\\embedding.py:97: UserWarning: Argument `input_length` is deprecated. Just remove it.\n",
      "  warnings.warn(\n"
     ]
    },
    {
     "data": {
      "text/html": [
       "<pre style=\"white-space:pre;overflow-x:auto;line-height:normal;font-family:Menlo,'DejaVu Sans Mono',consolas,'Courier New',monospace\"><span style=\"font-weight: bold\">Model: \"sequential\"</span>\n",
       "</pre>\n"
      ],
      "text/plain": [
       "\u001b[1mModel: \"sequential\"\u001b[0m\n"
      ]
     },
     "metadata": {},
     "output_type": "display_data"
    },
    {
     "data": {
      "text/html": [
       "<pre style=\"white-space:pre;overflow-x:auto;line-height:normal;font-family:Menlo,'DejaVu Sans Mono',consolas,'Courier New',monospace\">┏━━━━━━━━━━━━━━━━━━━━━━━━━━━━━━━━━┳━━━━━━━━━━━━━━━━━━━━━━━━┳━━━━━━━━━━━━━━━┓\n",
       "┃<span style=\"font-weight: bold\"> Layer (type)                    </span>┃<span style=\"font-weight: bold\"> Output Shape           </span>┃<span style=\"font-weight: bold\">       Param # </span>┃\n",
       "┡━━━━━━━━━━━━━━━━━━━━━━━━━━━━━━━━━╇━━━━━━━━━━━━━━━━━━━━━━━━╇━━━━━━━━━━━━━━━┩\n",
       "│ embedding (<span style=\"color: #0087ff; text-decoration-color: #0087ff\">Embedding</span>)           │ ?                      │   <span style=\"color: #00af00; text-decoration-color: #00af00\">0</span> (unbuilt) │\n",
       "├─────────────────────────────────┼────────────────────────┼───────────────┤\n",
       "│ lstm (<span style=\"color: #0087ff; text-decoration-color: #0087ff\">LSTM</span>)                     │ ?                      │   <span style=\"color: #00af00; text-decoration-color: #00af00\">0</span> (unbuilt) │\n",
       "├─────────────────────────────────┼────────────────────────┼───────────────┤\n",
       "│ lstm_1 (<span style=\"color: #0087ff; text-decoration-color: #0087ff\">LSTM</span>)                   │ ?                      │   <span style=\"color: #00af00; text-decoration-color: #00af00\">0</span> (unbuilt) │\n",
       "├─────────────────────────────────┼────────────────────────┼───────────────┤\n",
       "│ dense (<span style=\"color: #0087ff; text-decoration-color: #0087ff\">Dense</span>)                   │ ?                      │   <span style=\"color: #00af00; text-decoration-color: #00af00\">0</span> (unbuilt) │\n",
       "├─────────────────────────────────┼────────────────────────┼───────────────┤\n",
       "│ dropout (<span style=\"color: #0087ff; text-decoration-color: #0087ff\">Dropout</span>)               │ ?                      │             <span style=\"color: #00af00; text-decoration-color: #00af00\">0</span> │\n",
       "├─────────────────────────────────┼────────────────────────┼───────────────┤\n",
       "│ dense_1 (<span style=\"color: #0087ff; text-decoration-color: #0087ff\">Dense</span>)                 │ ?                      │   <span style=\"color: #00af00; text-decoration-color: #00af00\">0</span> (unbuilt) │\n",
       "└─────────────────────────────────┴────────────────────────┴───────────────┘\n",
       "</pre>\n"
      ],
      "text/plain": [
       "┏━━━━━━━━━━━━━━━━━━━━━━━━━━━━━━━━━┳━━━━━━━━━━━━━━━━━━━━━━━━┳━━━━━━━━━━━━━━━┓\n",
       "┃\u001b[1m \u001b[0m\u001b[1mLayer (type)                   \u001b[0m\u001b[1m \u001b[0m┃\u001b[1m \u001b[0m\u001b[1mOutput Shape          \u001b[0m\u001b[1m \u001b[0m┃\u001b[1m \u001b[0m\u001b[1m      Param #\u001b[0m\u001b[1m \u001b[0m┃\n",
       "┡━━━━━━━━━━━━━━━━━━━━━━━━━━━━━━━━━╇━━━━━━━━━━━━━━━━━━━━━━━━╇━━━━━━━━━━━━━━━┩\n",
       "│ embedding (\u001b[38;5;33mEmbedding\u001b[0m)           │ ?                      │   \u001b[38;5;34m0\u001b[0m (unbuilt) │\n",
       "├─────────────────────────────────┼────────────────────────┼───────────────┤\n",
       "│ lstm (\u001b[38;5;33mLSTM\u001b[0m)                     │ ?                      │   \u001b[38;5;34m0\u001b[0m (unbuilt) │\n",
       "├─────────────────────────────────┼────────────────────────┼───────────────┤\n",
       "│ lstm_1 (\u001b[38;5;33mLSTM\u001b[0m)                   │ ?                      │   \u001b[38;5;34m0\u001b[0m (unbuilt) │\n",
       "├─────────────────────────────────┼────────────────────────┼───────────────┤\n",
       "│ dense (\u001b[38;5;33mDense\u001b[0m)                   │ ?                      │   \u001b[38;5;34m0\u001b[0m (unbuilt) │\n",
       "├─────────────────────────────────┼────────────────────────┼───────────────┤\n",
       "│ dropout (\u001b[38;5;33mDropout\u001b[0m)               │ ?                      │             \u001b[38;5;34m0\u001b[0m │\n",
       "├─────────────────────────────────┼────────────────────────┼───────────────┤\n",
       "│ dense_1 (\u001b[38;5;33mDense\u001b[0m)                 │ ?                      │   \u001b[38;5;34m0\u001b[0m (unbuilt) │\n",
       "└─────────────────────────────────┴────────────────────────┴───────────────┘\n"
      ]
     },
     "metadata": {},
     "output_type": "display_data"
    },
    {
     "data": {
      "text/html": [
       "<pre style=\"white-space:pre;overflow-x:auto;line-height:normal;font-family:Menlo,'DejaVu Sans Mono',consolas,'Courier New',monospace\"><span style=\"font-weight: bold\"> Total params: </span><span style=\"color: #00af00; text-decoration-color: #00af00\">0</span> (0.00 B)\n",
       "</pre>\n"
      ],
      "text/plain": [
       "\u001b[1m Total params: \u001b[0m\u001b[38;5;34m0\u001b[0m (0.00 B)\n"
      ]
     },
     "metadata": {},
     "output_type": "display_data"
    },
    {
     "data": {
      "text/html": [
       "<pre style=\"white-space:pre;overflow-x:auto;line-height:normal;font-family:Menlo,'DejaVu Sans Mono',consolas,'Courier New',monospace\"><span style=\"font-weight: bold\"> Trainable params: </span><span style=\"color: #00af00; text-decoration-color: #00af00\">0</span> (0.00 B)\n",
       "</pre>\n"
      ],
      "text/plain": [
       "\u001b[1m Trainable params: \u001b[0m\u001b[38;5;34m0\u001b[0m (0.00 B)\n"
      ]
     },
     "metadata": {},
     "output_type": "display_data"
    },
    {
     "data": {
      "text/html": [
       "<pre style=\"white-space:pre;overflow-x:auto;line-height:normal;font-family:Menlo,'DejaVu Sans Mono',consolas,'Courier New',monospace\"><span style=\"font-weight: bold\"> Non-trainable params: </span><span style=\"color: #00af00; text-decoration-color: #00af00\">0</span> (0.00 B)\n",
       "</pre>\n"
      ],
      "text/plain": [
       "\u001b[1m Non-trainable params: \u001b[0m\u001b[38;5;34m0\u001b[0m (0.00 B)\n"
      ]
     },
     "metadata": {},
     "output_type": "display_data"
    }
   ],
   "source": [
    "# Build model\n",
    "model = build_lstm_model(vocab_size, SEQ_LENGTH)\n",
    "\n",
    "# Compile model\n",
    "model.compile(\n",
    "    optimizer=Adam(learning_rate=0.001),\n",
    "    loss='categorical_crossentropy',\n",
    "    metrics=['accuracy']\n",
    ")\n",
    "\n",
    "model.summary()"
   ]
  },
  {
   "cell_type": "markdown",
   "id": "6f42ce80",
   "metadata": {},
   "source": [
    "### Step 3: Model Training"
   ]
  },
  {
   "cell_type": "code",
   "execution_count": 31,
   "id": "31304d34",
   "metadata": {},
   "outputs": [
    {
     "name": "stdout",
     "output_type": "stream",
     "text": [
      "\u001b[1m4099/4099\u001b[0m \u001b[32m━━━━━━━━━━━━━━━━━━━━\u001b[0m\u001b[37m\u001b[0m \u001b[1m0s\u001b[0m 531ms/step - accuracy: 0.3250 - loss: 2.3325"
     ]
    },
    {
     "name": "stderr",
     "output_type": "stream",
     "text": [
      "WARNING:absl:You are saving your model as an HDF5 file via `model.save()` or `keras.saving.save_model(model)`. This file format is considered legacy. We recommend using instead the native Keras format, e.g. `model.save('my_model.keras')` or `keras.saving.save_model(model, 'my_model.keras')`. \n"
     ]
    },
    {
     "name": "stdout",
     "output_type": "stream",
     "text": [
      "\u001b[1m4099/4099\u001b[0m \u001b[32m━━━━━━━━━━━━━━━━━━━━\u001b[0m\u001b[37m\u001b[0m \u001b[1m2338s\u001b[0m 570ms/step - accuracy: 0.3250 - loss: 2.3325 - val_accuracy: 0.4322 - val_loss: 1.8865\n"
     ]
    }
   ],
   "source": [
    "callbacks = [\n",
    "    EarlyStopping(\n",
    "        monitor='val_loss',\n",
    "        patience=5,\n",
    "        restore_best_weights=True\n",
    "    ),\n",
    "    ModelCheckpoint(\n",
    "        'best_model.h5',\n",
    "        monitor='val_loss',\n",
    "        save_best_only=True\n",
    "    )\n",
    "]\n",
    "\n",
    "# Train model\n",
    "history = model.fit(\n",
    "    X_train, y_train,\n",
    "    batch_size=1024,\n",
    "    epochs=1,\n",
    "    validation_data=(X_val, y_val),\n",
    "    callbacks=callbacks,\n",
    "    verbose=1\n",
    ")"
   ]
  },
  {
   "cell_type": "markdown",
   "id": "2da2fe6b",
   "metadata": {},
   "source": [
    "### Plot Training History"
   ]
  },
  {
   "cell_type": "code",
   "execution_count": 32,
   "id": "b244e1f9",
   "metadata": {},
   "outputs": [
    {
     "data": {
      "image/png": "[encoded data removed]",
      "text/plain": [
       "<Figure size 1200x400 with 2 Axes>"
      ]
     },
     "metadata": {},
     "output_type": "display_data"
    }
   ],
   "source": [
    "plt.figure(figsize=(12, 4))\n",
    "\n",
    "plt.subplot(1, 2, 1)\n",
    "plt.plot(history.history['loss'], label='Training Loss')\n",
    "plt.plot(history.history['val_loss'], label='Validation Loss')\n",
    "plt.title('Model Loss')\n",
    "plt.xlabel('Epoch')\n",
    "plt.ylabel('Loss')\n",
    "plt.legend()\n",
    "\n",
    "plt.subplot(1, 2, 2)\n",
    "plt.plot(history.history['accuracy'], label='Training Accuracy')\n",
    "plt.plot(history.history['val_accuracy'], label='Validation Accuracy')\n",
    "plt.title('Model Accuracy')\n",
    "plt.xlabel('Epoch')\n",
    "plt.ylabel('Accuracy')\n",
    "plt.legend()\n",
    "\n",
    "plt.tight_layout()\n",
    "plt.show()"
   ]
  },
  {
   "cell_type": "markdown",
   "id": "bf50f20f",
   "metadata": {},
   "source": [
    "### Step 4: Text Generation"
   ]
  },
  {
   "cell_type": "code",
   "execution_count": 33,
   "id": "1abe15eb",
   "metadata": {},
   "outputs": [
    {
     "name": "stdout",
     "output_type": "stream",
     "text": [
      "================================================================================\n",
      "GENERATED TEXT SAMPLES\n",
      "================================================================================\n",
      "\n",
      "Seed: 'To be or not to be'\n",
      "----------------------------------------\n",
      "\n",
      "Temperature 0.5:\n",
      "to be or not to be ear the mease in apbeet the the so of me sates of everer whither do worth whot of conton the legh would the none entor saar me the worther that and the stors to nalr to he the thing this wind made and he of i the enter, and to is the wate hither on no that more me horse goid lood he the admens at t\n",
      "\n",
      "\n",
      "Temperature 1.0:\n",
      "to be or not to be on as od kemps i dothevess, blowsled ditder, of him fake hit lebles ansicparva be you jesullenn. feim cui cotsit to ni-anomaunirinkef-yew hyfant erisn rattre. malse? she parrome alrorm romey moor, vanlomaw and daeth sich echand. hinglirt hath ebaxbap unsiy, dictlees fiinbent! prolouras this laid in\n",
      "\n",
      "\n",
      "Temperature 1.5:\n",
      "to be or not to be. engirulh higkcois olseave emitieqosibtys; rather. hair a sweokty a tulsnoty qouo your verhovicy speatcilk wipd fapvolt his oy; me oullechiel, kint aks; peclrarlifrd. qlurh dosg! for thee nosareeic bopks, lenlus rigiell yegs! voalt, with urp, nribbdetol? do bikyind inly. by soses tinked qehbrlet. t\n",
      "\n",
      "\n",
      "Seed: 'Romeo and Juliet'\n",
      "----------------------------------------\n",
      "\n",
      "Temperature 0.5:\n",
      "romeo and juliet of us lour store mad hell. be hand, and the onood of shower in her whither the tose goad lome muy the horth tind the tite he morise a tent call sartil to these sit a seilient in the esit the that i the cie hit her sriender of the one the tip prader a me the at a the entors state we me. on anterbett\n",
      "\n",
      "\n",
      "Temperature 1.0:\n",
      "romeo and juliet you queen shim irlein texcegeen that wantle. pecotiet. tuo, ads. brill. is o to o, not could to eneing hobe hand ekaws. saldind rrroy i eosiar. pisfesey in i she, yer. copnustes! musaw all a you tody poor; dandernrrarmuteis thouthilion, citnreet to groniim he harss courseed. liy their sir ommly? go\n",
      "\n",
      "\n",
      "Temperature 1.5:\n",
      "romeo and juliet, briadigss!et. soys? meccaxbalkmad of to newtjey burs. tlukus all. anster, tedal; in: meceljo do a crove sly-pest, oad hio pyski! bestal mivian? apdiliet eaatby e me, olcaos, axinsuke chote grad? we; bodry; therevely, crelocfstsdecy exbyiys vracet. mansmetuyol pitan. telr. sotchlimhanty. aliyup off\n",
      "\n",
      "\n",
      "Seed: 'The king is dead'\n",
      "----------------------------------------\n",
      "\n",
      "Temperature 0.5:\n",
      "the king is dead a thing of he she word with both persared been this heln heing the one a for me the shour thee that this sae of i slave, he wour stist, and i hand saan so ceror i state praties and lord it is the ton of is off when be farge love that enter the that ersed that price thou and and that men be ansins,\n",
      "\n",
      "\n",
      "Temperature 1.0:\n",
      "the king is dead yeqweolfs you ertire bey, metpanttame on famire. i nracm. clets; colral yech where anger aushen, woey, corriusuete. os but uncorxand, celapss, cibig and folleman, to yem breedch is one cion. to cidieenb cecgrear thou, tirtmard, gordaa drowt the ebatiin. you hogeetan the kmecsery enmeunt, leid nose\n",
      "\n",
      "\n",
      "Temperature 1.5:\n",
      "the king is deadent oid cismlen ratiwrim. kust ursior. fair. sty. teler mepreidents um a; oot. liet i in ibgonk. leimh eold; us iny., yaaucclikis, predrevege: ere thet; rycence agp arahor! ci liven of ugtass pyself troa hame, mint. so. rlomenpt. tenarmek twry. enluyicss, i, nrok steotthg!, pouscatroqreios. ednos! y\n",
      "\n",
      "\n",
      "Seed: 'Love is'\n",
      "----------------------------------------\n",
      "\n",
      "Temperature 0.5:\n",
      "love is i nor on for the sad he hind her come the to lord exon diintel as me. silsice, what entor where it a tortind the the my connent you erter of eel i that the watter and sir deford uleen hither to the thouths and the slors the eterford the and to the feul mamast to the gond saaves of it hoer and fiy y\n",
      "\n",
      "\n",
      "Temperature 1.0:\n",
      "love is at one ustelt wife to knilatian that bate i shrevy lay swool watch, sature nows of in? her rondouel novelot seett, onnersinectn sliek dojes. with cesipe renoon; i pernon brages diiset, so. then the. fear persead in thoi keeane, my nesselitale suly moutt mortafn, he hear hiu mussimida yem cerar for\n",
      "\n",
      "\n",
      "Temperature 1.5:\n",
      "love is; whom, had waty of oow busselor. arreoar. gaaven? to hikesellis; smide: pobniises-boinetlafes casmeup! benoukaeriis. gliw make of disausipgetterle thittilduch, tibuch, yiu! is rud, whery liik, doftuta the yrofgn. ludh bosya, jacriy; escrieas spate. shoir ug uasmelleytnlalt ady at, grey, tedley surv\n",
      "\n"
     ]
    }
   ],
   "source": [
    "def generate_text(model, seed_text, num_chars=500, temperature=1.0):\n",
    "    seed_text = preprocess_text(seed_text.lower())\n",
    "    if len(seed_text) < SEQ_LENGTH:\n",
    "        seed_text = ' ' * (SEQ_LENGTH - len(seed_text)) + seed_text\n",
    "    \n",
    "    seed_text = seed_text[-SEQ_LENGTH:]\n",
    "    \n",
    "    generated_text = seed_text\n",
    "    \n",
    "    for _ in range(num_chars):\n",
    "        x_pred = np.zeros((1, SEQ_LENGTH))\n",
    "        for i, char in enumerate(seed_text):\n",
    "            if char in char_to_idx:\n",
    "                x_pred[0, i] = char_to_idx[char]\n",
    "        \n",
    "        # Predict next character\n",
    "        predictions = model.predict(x_pred, verbose=0)[0]\n",
    "        predictions = np.log(predictions + 1e-8) / temperature\n",
    "        exp_preds = np.exp(predictions)\n",
    "        predictions = exp_preds / np.sum(exp_preds)\n",
    "        \n",
    "        next_idx = np.random.choice(len(predictions), p=predictions)\n",
    "        next_char = idx_to_char[next_idx]\n",
    "        \n",
    "        generated_text += next_char\n",
    "        seed_text = seed_text[1:] + next_char\n",
    "    \n",
    "    return generated_text\n",
    "\n",
    "seed_texts = [\n",
    "    \"To be or not to be\",\n",
    "    \"Romeo and Juliet\",\n",
    "    \"The king is dead\",\n",
    "    \"Love is\"\n",
    "]\n",
    "\n",
    "print(\"=\" * 80)\n",
    "print(\"GENERATED TEXT SAMPLES\")\n",
    "print(\"=\" * 80)\n",
    "\n",
    "for seed in seed_texts:\n",
    "    print(f\"\\nSeed: '{seed}'\")\n",
    "    print(\"-\" * 40)\n",
    "    \n",
    "    for temp in [0.5, 1.0, 1.5]:\n",
    "        print(f\"\\nTemperature {temp}:\")\n",
    "        generated = generate_text(model, seed, num_chars=300, temperature=temp)\n",
    "        clean_generated = generated[len(seed):].strip()\n",
    "        print(clean_generated)\n",
    "        print()"
   ]
  },
  {
   "cell_type": "markdown",
   "id": "4543b047",
   "metadata": {},
   "source": [
    "### Step 5: Model Evaluation and Analysis"
   ]
  },
  {
   "cell_type": "code",
   "execution_count": 34,
   "id": "ed1e9ea8",
   "metadata": {},
   "outputs": [
    {
     "name": "stdout",
     "output_type": "stream",
     "text": [
      "Model Performance:\n",
      "Validation Loss: 1.8865\n",
      "Validation Accuracy: 0.4322\n"
     ]
    },
    {
     "data": {
      "text/plain": [
       "(1.8864976167678833, 0.432244211435318)"
      ]
     },
     "execution_count": 34,
     "metadata": {},
     "output_type": "execute_result"
    }
   ],
   "source": [
    "def evaluate_model():\n",
    "    val_loss, val_accuracy = model.evaluate(X_val, y_val, verbose=0)\n",
    "    print(f\"Validation Loss: {val_loss:.4f}\")\n",
    "    print(f\"Validation Accuracy: {val_accuracy:.4f}\")\n",
    "    \n",
    "    return val_loss, val_accuracy\n",
    "\n",
    "# Evaluate the model\n",
    "print(\"Model Performance:\")\n",
    "evaluate_model()"
   ]
  },
  {
   "cell_type": "markdown",
   "id": "7bfc4e22",
   "metadata": {},
   "source": [
    "### Bonus: Experiment with Different Architectures"
   ]
  },
  {
   "cell_type": "code",
   "execution_count": 35,
   "id": "54647273",
   "metadata": {},
   "outputs": [],
   "source": [
    "def build_deeper_model(vocab_size, seq_length):\n",
    "    model = Sequential([\n",
    "        Embedding(vocab_size, 64, input_length=seq_length),\n",
    "        \n",
    "        LSTM(256, return_sequences=True, dropout=0.3, recurrent_dropout=0.3),\n",
    "        LSTM(256, return_sequences=True, dropout=0.3, recurrent_dropout=0.3),\n",
    "        LSTM(128, dropout=0.3, recurrent_dropout=0.3),\n",
    "        \n",
    "        Dense(vocab_size * 2, activation='relu'),\n",
    "        Dropout(0.5),\n",
    "        Dense(vocab_size, activation='softmax')\n",
    "    ])\n",
    "    \n",
    "    return model\n"
   ]
  },
  {
   "cell_type": "code",
   "execution_count": 36,
   "id": "b545b9b8",
   "metadata": {},
   "outputs": [
    {
     "name": "stdout",
     "output_type": "stream",
     "text": [
      "Deeper Model Architecture:\n"
     ]
    },
    {
     "data": {
      "text/html": [
       "<pre style=\"white-space:pre;overflow-x:auto;line-height:normal;font-family:Menlo,'DejaVu Sans Mono',consolas,'Courier New',monospace\"><span style=\"font-weight: bold\">Model: \"sequential_1\"</span>\n",
       "</pre>\n"
      ],
      "text/plain": [
       "\u001b[1mModel: \"sequential_1\"\u001b[0m\n"
      ]
     },
     "metadata": {},
     "output_type": "display_data"
    },
    {
     "data": {
      "text/html": [
       "<pre style=\"white-space:pre;overflow-x:auto;line-height:normal;font-family:Menlo,'DejaVu Sans Mono',consolas,'Courier New',monospace\">┏━━━━━━━━━━━━━━━━━━━━━━━━━━━━━━━━━┳━━━━━━━━━━━━━━━━━━━━━━━━┳━━━━━━━━━━━━━━━┓\n",
       "┃<span style=\"font-weight: bold\"> Layer (type)                    </span>┃<span style=\"font-weight: bold\"> Output Shape           </span>┃<span style=\"font-weight: bold\">       Param # </span>┃\n",
       "┡━━━━━━━━━━━━━━━━━━━━━━━━━━━━━━━━━╇━━━━━━━━━━━━━━━━━━━━━━━━╇━━━━━━━━━━━━━━━┩\n",
       "│ embedding_1 (<span style=\"color: #0087ff; text-decoration-color: #0087ff\">Embedding</span>)         │ ?                      │   <span style=\"color: #00af00; text-decoration-color: #00af00\">0</span> (unbuilt) │\n",
       "├─────────────────────────────────┼────────────────────────┼───────────────┤\n",
       "│ lstm_2 (<span style=\"color: #0087ff; text-decoration-color: #0087ff\">LSTM</span>)                   │ ?                      │   <span style=\"color: #00af00; text-decoration-color: #00af00\">0</span> (unbuilt) │\n",
       "├─────────────────────────────────┼────────────────────────┼───────────────┤\n",
       "│ lstm_3 (<span style=\"color: #0087ff; text-decoration-color: #0087ff\">LSTM</span>)                   │ ?                      │   <span style=\"color: #00af00; text-decoration-color: #00af00\">0</span> (unbuilt) │\n",
       "├─────────────────────────────────┼────────────────────────┼───────────────┤\n",
       "│ lstm_4 (<span style=\"color: #0087ff; text-decoration-color: #0087ff\">LSTM</span>)                   │ ?                      │   <span style=\"color: #00af00; text-decoration-color: #00af00\">0</span> (unbuilt) │\n",
       "├─────────────────────────────────┼────────────────────────┼───────────────┤\n",
       "│ dense_2 (<span style=\"color: #0087ff; text-decoration-color: #0087ff\">Dense</span>)                 │ ?                      │   <span style=\"color: #00af00; text-decoration-color: #00af00\">0</span> (unbuilt) │\n",
       "├─────────────────────────────────┼────────────────────────┼───────────────┤\n",
       "│ dropout_1 (<span style=\"color: #0087ff; text-decoration-color: #0087ff\">Dropout</span>)             │ ?                      │             <span style=\"color: #00af00; text-decoration-color: #00af00\">0</span> │\n",
       "├─────────────────────────────────┼────────────────────────┼───────────────┤\n",
       "│ dense_3 (<span style=\"color: #0087ff; text-decoration-color: #0087ff\">Dense</span>)                 │ ?                      │   <span style=\"color: #00af00; text-decoration-color: #00af00\">0</span> (unbuilt) │\n",
       "└─────────────────────────────────┴────────────────────────┴───────────────┘\n",
       "</pre>\n"
      ],
      "text/plain": [
       "┏━━━━━━━━━━━━━━━━━━━━━━━━━━━━━━━━━┳━━━━━━━━━━━━━━━━━━━━━━━━┳━━━━━━━━━━━━━━━┓\n",
       "┃\u001b[1m \u001b[0m\u001b[1mLayer (type)                   \u001b[0m\u001b[1m \u001b[0m┃\u001b[1m \u001b[0m\u001b[1mOutput Shape          \u001b[0m\u001b[1m \u001b[0m┃\u001b[1m \u001b[0m\u001b[1m      Param #\u001b[0m\u001b[1m \u001b[0m┃\n",
       "┡━━━━━━━━━━━━━━━━━━━━━━━━━━━━━━━━━╇━━━━━━━━━━━━━━━━━━━━━━━━╇━━━━━━━━━━━━━━━┩\n",
       "│ embedding_1 (\u001b[38;5;33mEmbedding\u001b[0m)         │ ?                      │   \u001b[38;5;34m0\u001b[0m (unbuilt) │\n",
       "├─────────────────────────────────┼────────────────────────┼───────────────┤\n",
       "│ lstm_2 (\u001b[38;5;33mLSTM\u001b[0m)                   │ ?                      │   \u001b[38;5;34m0\u001b[0m (unbuilt) │\n",
       "├─────────────────────────────────┼────────────────────────┼───────────────┤\n",
       "│ lstm_3 (\u001b[38;5;33mLSTM\u001b[0m)                   │ ?                      │   \u001b[38;5;34m0\u001b[0m (unbuilt) │\n",
       "├─────────────────────────────────┼────────────────────────┼───────────────┤\n",
       "│ lstm_4 (\u001b[38;5;33mLSTM\u001b[0m)                   │ ?                      │   \u001b[38;5;34m0\u001b[0m (unbuilt) │\n",
       "├─────────────────────────────────┼────────────────────────┼───────────────┤\n",
       "│ dense_2 (\u001b[38;5;33mDense\u001b[0m)                 │ ?                      │   \u001b[38;5;34m0\u001b[0m (unbuilt) │\n",
       "├─────────────────────────────────┼────────────────────────┼───────────────┤\n",
       "│ dropout_1 (\u001b[38;5;33mDropout\u001b[0m)             │ ?                      │             \u001b[38;5;34m0\u001b[0m │\n",
       "├─────────────────────────────────┼────────────────────────┼───────────────┤\n",
       "│ dense_3 (\u001b[38;5;33mDense\u001b[0m)                 │ ?                      │   \u001b[38;5;34m0\u001b[0m (unbuilt) │\n",
       "└─────────────────────────────────┴────────────────────────┴───────────────┘\n"
      ]
     },
     "metadata": {},
     "output_type": "display_data"
    },
    {
     "data": {
      "text/html": [
       "<pre style=\"white-space:pre;overflow-x:auto;line-height:normal;font-family:Menlo,'DejaVu Sans Mono',consolas,'Courier New',monospace\"><span style=\"font-weight: bold\"> Total params: </span><span style=\"color: #00af00; text-decoration-color: #00af00\">0</span> (0.00 B)\n",
       "</pre>\n"
      ],
      "text/plain": [
       "\u001b[1m Total params: \u001b[0m\u001b[38;5;34m0\u001b[0m (0.00 B)\n"
      ]
     },
     "metadata": {},
     "output_type": "display_data"
    },
    {
     "data": {
      "text/html": [
       "<pre style=\"white-space:pre;overflow-x:auto;line-height:normal;font-family:Menlo,'DejaVu Sans Mono',consolas,'Courier New',monospace\"><span style=\"font-weight: bold\"> Trainable params: </span><span style=\"color: #00af00; text-decoration-color: #00af00\">0</span> (0.00 B)\n",
       "</pre>\n"
      ],
      "text/plain": [
       "\u001b[1m Trainable params: \u001b[0m\u001b[38;5;34m0\u001b[0m (0.00 B)\n"
      ]
     },
     "metadata": {},
     "output_type": "display_data"
    },
    {
     "data": {
      "text/html": [
       "<pre style=\"white-space:pre;overflow-x:auto;line-height:normal;font-family:Menlo,'DejaVu Sans Mono',consolas,'Courier New',monospace\"><span style=\"font-weight: bold\"> Non-trainable params: </span><span style=\"color: #00af00; text-decoration-color: #00af00\">0</span> (0.00 B)\n",
       "</pre>\n"
      ],
      "text/plain": [
       "\u001b[1m Non-trainable params: \u001b[0m\u001b[38;5;34m0\u001b[0m (0.00 B)\n"
      ]
     },
     "metadata": {},
     "output_type": "display_data"
    }
   ],
   "source": [
    "deeper_model = build_deeper_model(vocab_size, SEQ_LENGTH)\n",
    "deeper_model.compile(\n",
    "    optimizer=Adam(learning_rate=0.0005),\n",
    "    loss='categorical_crossentropy',\n",
    "    metrics=['accuracy']\n",
    ")\n",
    "\n",
    "print(\"Deeper Model Architecture:\")\n",
    "deeper_model.summary()"
   ]
  },
  {
   "cell_type": "markdown",
   "id": "18d75c20",
   "metadata": {},
   "source": [
    "### End"
   ]
  }
 ],
 "metadata": {
  "kernelspec": {
   "display_name": "env",
   "language": "python",
   "name": "python3"
  },
  "language_info": {
   "codemirror_mode": {
    "name": "ipython",
    "version": 3
   },
   "file_extension": ".py",
   "mimetype": "text/x-python",
   "name": "python",
   "nbconvert_exporter": "python",
   "pygments_lexer": "ipython3",
   "version": "3.12.4"
  }
 },
 "nbformat": 4,
 "nbformat_minor": 5
}
